{
 "cells": [
  {
   "cell_type": "code",
   "execution_count": 1,
   "metadata": {},
   "outputs": [],
   "source": [
    "\"\"\"\n",
    "    This example shows how to use the Mesh class in order to generate a \n",
    "    geometry similar to those that may define a lifting surface planform.\n",
    "\n",
    "   Y ^   B              This geometry is positioned in space with two chords\n",
    "     |   +---+          simulating the root and tip chords, using points\n",
    "     |  /    |          A and B to store their respective leading edge\n",
    "     | /     | b        coordinates.\n",
    "     |/      |          \n",
    "     +-------+---->     With the parameters n and m, the grid density in the \n",
    "     A   c         X    chordwise and spanwise directions will be defined.\n",
    "\"\"\"\n",
    "import numpy as np\n",
    "import matplotlib.pyplot as plt\n",
    "import matplotlib.cm as cm\n",
    "\n",
    "from vlm import Mesh"
   ]
  },
  {
   "cell_type": "markdown",
   "metadata": {},
   "source": [
    "### Geometry definition"
   ]
  },
  {
   "cell_type": "code",
   "execution_count": 2,
   "metadata": {},
   "outputs": [],
   "source": [
    "# Parameters\n",
    "c = 1  # root chord length\n",
    "b = 10  # panel span length\n",
    "n = 2  # number of panels chordwise\n",
    "m = 3  # number of panels spanwise\n",
    "\n",
    "# Wing\n",
    "A = np.array([0, 0])  # root chord leading edge coordinates\n",
    "B = np.array([c/2, b])  # tip chord leading edge coordinates\n",
    "\n",
    "leading_edges_coord = [A, B]\n",
    "chord_lengths = [c, c/2]\n",
    "\n",
    "mesh = Mesh(leading_edges_coord, chord_lengths, n, m)\n",
    "\n",
    "Points = mesh.points()\n",
    "Panels = mesh.panels()"
   ]
  },
  {
   "cell_type": "markdown",
   "metadata": {},
   "source": [
    "### Printing and plotting"
   ]
  },
  {
   "cell_type": "code",
   "execution_count": 3,
   "metadata": {},
   "outputs": [
    {
     "name": "stdout",
     "output_type": "stream",
     "text": [
      "\n",
      " Point |    Coordinates \n",
      "------------------------\n",
      "   0   | [0 0]\n",
      "   1   | [0.17 3.33]\n",
      "   2   | [0.33 6.67]\n",
      "   3   | [ 0.5 10. ]\n",
      "   4   | [0.5 0. ]\n",
      "   5   | [0.58 3.33]\n",
      "   6   | [0.67 6.67]\n",
      "   7   | [ 0.75 10.  ]\n",
      "   8   | [1. 0.]\n",
      "   9   | [1.   3.33]\n",
      "  10   | [1.   6.67]\n",
      "  11   | [ 1. 10.]\n"
     ]
    },
    {
     "data": {
      "image/png": "[encoded data removed]",
      "text/plain": [
       "<Figure size 432x288 with 1 Axes>"
      ]
     },
     "metadata": {},
     "output_type": "display_data"
    },
    {
     "name": "stdout",
     "output_type": "stream",
     "text": [
      "\n",
      " Panel | Chrd % |  Span  |   Points coordinates\n",
      "------------------------------------------------\n",
      "    0  |  25.0  |   3.33 |  [0.5 0. ] [0 0] [0.17 3.33] [0.58 3.33]\n",
      "    1  |  25.0  |   3.33 |  [0.58 3.33] [0.17 3.33] [0.33 6.67] [0.67 6.67]\n",
      "    2  |  25.0  |   3.33 |  [0.67 6.67] [0.33 6.67] [ 0.5 10. ] [ 0.75 10.  ]\n",
      "    3  |  75.0  |   3.33 |  [1. 0.] [0.5 0. ] [0.58 3.33] [1.   3.33]\n",
      "    4  |  75.0  |   3.33 |  [1.   3.33] [0.58 3.33] [0.67 6.67] [1.   6.67]\n",
      "    5  |  75.0  |   3.33 |  [1.   6.67] [0.67 6.67] [ 0.75 10.  ] [ 1. 10.]\n"
     ]
    }
   ],
   "source": [
    "# Points of the mesh\n",
    "print('\\n Point |    Coordinates ')\n",
    "print('------------------------')\n",
    "for p, i in zip(Points, range(len(Points))):\n",
    "    print('  %2s   |' % i, np.round(p, 2))\n",
    "\n",
    "# Mesh\n",
    "plt.style.use('ggplot')\n",
    "colors = plt.cm.Blues(np.linspace(0, 1, len(Panels) + 5))\n",
    "\n",
    "for p, i in zip(Panels, range(len(Panels))):\n",
    "    col = colors[i + 4]\n",
    "    \n",
    "    x = [p.P1[0], p.P2[0], p.P3[0], p.P4[0]]\n",
    "    y = [p.P1[1], p.P2[1], p.P3[1], p.P4[1]]\n",
    "    \n",
    "    plt.fill(x, y, c=col, alpha=0.65)\n",
    "    plt.plot(x, y, c='w', lw=2)\n",
    "    centre = (p.P1 + p.P3) / 2\n",
    "    plt.text(centre[0], centre[1], i, color='k', fontsize=20)\n",
    "\n",
    "for p in Points:\n",
    "    plt.plot(p[0], p[1], 'bo')\n",
    "plt.show()\n",
    "\n",
    "# Panels distribution\n",
    "print('\\n Panel | Chrd % |  Span  |   Points coordinates')\n",
    "print('------------------------------------------------')\n",
    "for p, i in zip(Panels, range(len(Panels))):\n",
    "    print('  %3s  |  %4.1f  | %6.2f | '\n",
    "         % (i, 100*p.chordwise_position,  p.span),\n",
    "            np.round(p.P1, 2), np.round(p.P2, 2),\n",
    "            np.round(p.P3, 2), np.round(p.P4, 2))"
   ]
  }
 ],
 "metadata": {
  "kernelspec": {
   "display_name": "Python 3",
   "language": "python",
   "name": "python3"
  },
  "language_info": {
   "codemirror_mode": {
    "name": "ipython",
    "version": 3
   },
   "file_extension": ".py",
   "mimetype": "text/x-python",
   "name": "python",
   "nbconvert_exporter": "python",
   "pygments_lexer": "ipython3",
   "version": "3.7.3"
  }
 },
 "nbformat": 4,
 "nbformat_minor": 2
}
